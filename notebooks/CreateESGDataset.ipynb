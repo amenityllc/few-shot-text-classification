{
 "cells": [
  {
   "cell_type": "code",
   "execution_count": 1,
   "metadata": {},
   "outputs": [],
   "source": [
    "import sys\n",
    "sys.path.append('/home/administrator/repos/few-shot-text-classification')\n",
    "sys.path.append('/home/administrator/repos/utopics')"
   ]
  },
  {
   "cell_type": "code",
   "execution_count": 2,
   "metadata": {},
   "outputs": [],
   "source": [
    "import os\n",
    "import secrets\n",
    "from tqdm import tqdm\n",
    "\n",
    "import torch\n",
    "\n",
    "import numpy as np\n",
    "import pandas as pd\n",
    "\n",
    "import seaborn as sns\n",
    "import matplotlib.pyplot as plt"
   ]
  },
  {
   "cell_type": "code",
   "execution_count": 17,
   "metadata": {},
   "outputs": [],
   "source": [
    "from fewshot.data.utils import Dataset\n",
    "\n",
    "from fewshot.data.loaders import load_or_cache_data\n",
    "\n",
    "from fewshot.embeddings.word_embeddings import (\n",
    "    load_word_vector_model,\n",
    "    get_topk_w2v_vectors,\n",
    "    get_word_embeddings\n",
    ")\n",
    "from fewshot.embeddings.sentence_embeddings import (\n",
    "    load_transformer_model_and_tokenizer,\n",
    "    get_sentence_embeddings,\n",
    ")\n",
    "\n",
    "from fewshot.models.on_the_fly import OLS_with_l2_regularization\n",
    "\n",
    "from fewshot.eval import predict_and_score, simple_topk_accuracy\n",
    "\n",
    "from fewshot.utils import (\n",
    "    fewshot_filename,\n",
    "    torch_load,\n",
    "    torch_save,\n",
    "    pickle_load,\n",
    "    pickle_save,\n",
    "    to_tensor,\n",
    "    to_list,\n",
    ")"
   ]
  },
  {
   "cell_type": "code",
   "execution_count": 4,
   "metadata": {},
   "outputs": [],
   "source": [
    "from src.datasets.ESG.label_set import ESG_Labels, ESG_Labels_ALL"
   ]
  },
  {
   "cell_type": "code",
   "execution_count": 5,
   "metadata": {},
   "outputs": [
    {
     "name": "stdout",
     "output_type": "stream",
     "text": [
      "0 Cyber Risk\n",
      "1 Product Quality\n",
      "2 Pollution Management\n",
      "3 Class Action\n",
      "4 Clean Technology\n",
      "5 ESG Commentary\n",
      "6 Ethics and Anti-Corruption\n",
      "7 Corporate Philanthropy\n",
      "8 Supply Chain\n",
      "9 Legal Regulatory\n",
      "10 Management Structure\n",
      "11 Human Capital\n",
      "12 Reputational Profile\n",
      "13 Environmental Commentary\n",
      "14 Workplace Safety\n",
      "15 Community Engagement\n",
      "16 Climate Risk\n",
      "17 Harassment and Assault\n",
      "18 Transparency and Disclosure\n",
      "19 Shareholder Engagement\n",
      "20 Diversity and Inclusion\n",
      "21 Governance Commentary\n",
      "22 Access and Affordability\n",
      "23 Resource and Biodiversity Conservation\n",
      "24 Environmental Regulation\n"
     ]
    }
   ],
   "source": [
    "for i, l in enumerate(ESG_Labels_ALL):\n",
    "    print(i, l)"
   ]
  },
  {
   "cell_type": "code",
   "execution_count": 6,
   "metadata": {},
   "outputs": [
    {
     "data": {
      "text/plain": [
       "16"
      ]
     },
     "execution_count": 6,
     "metadata": {},
     "output_type": "execute_result"
    }
   ],
   "source": [
    "ESG_Labels_ALL.index('Climate Risk')"
   ]
  },
  {
   "cell_type": "code",
   "execution_count": 7,
   "metadata": {},
   "outputs": [],
   "source": [
    "COL_SENTENCE   = 'sentence_text'\n",
    "COL_EVENT_NAME = 'event_name'\n",
    "COL_LABEL      = 'label'"
   ]
  },
  {
   "cell_type": "code",
   "execution_count": 8,
   "metadata": {},
   "outputs": [],
   "source": [
    "df_events = pd.read_csv('/home/administrator/Topics/BigQuery/DataFrames/df_events.csv')"
   ]
  },
  {
   "cell_type": "code",
   "execution_count": 9,
   "metadata": {},
   "outputs": [
    {
     "data": {
      "text/html": [
       "<div>\n",
       "<style scoped>\n",
       "    .dataframe tbody tr th:only-of-type {\n",
       "        vertical-align: middle;\n",
       "    }\n",
       "\n",
       "    .dataframe tbody tr th {\n",
       "        vertical-align: top;\n",
       "    }\n",
       "\n",
       "    .dataframe thead th {\n",
       "        text-align: right;\n",
       "    }\n",
       "</style>\n",
       "<table border=\"1\" class=\"dataframe\">\n",
       "  <thead>\n",
       "    <tr style=\"text-align: right;\">\n",
       "      <th></th>\n",
       "      <th>14409</th>\n",
       "    </tr>\n",
       "  </thead>\n",
       "  <tbody>\n",
       "    <tr>\n",
       "      <th>model_id</th>\n",
       "      <td>2776</td>\n",
       "    </tr>\n",
       "    <tr>\n",
       "      <th>symbology_id</th>\n",
       "      <td>05JLQY-E</td>\n",
       "    </tr>\n",
       "    <tr>\n",
       "      <th>creation_time_utc</th>\n",
       "      <td>2021-06-18 18:31:41 UTC</td>\n",
       "    </tr>\n",
       "    <tr>\n",
       "      <th>event_time_utc</th>\n",
       "      <td>2021-06-17 11:30:00 UTC</td>\n",
       "    </tr>\n",
       "    <tr>\n",
       "      <th>provider_document_id</th>\n",
       "      <td>45193105023</td>\n",
       "    </tr>\n",
       "    <tr>\n",
       "      <th>provider_source_link</th>\n",
       "      <td>https://ct.moreover.com/?a=45193105023&amp;p=4y7&amp;v...</td>\n",
       "    </tr>\n",
       "    <tr>\n",
       "      <th>provider_license</th>\n",
       "      <td>['LexisNexis Licensed']</td>\n",
       "    </tr>\n",
       "    <tr>\n",
       "      <th>author_name</th>\n",
       "      <td>NaN</td>\n",
       "    </tr>\n",
       "    <tr>\n",
       "      <th>provider_display_document_title</th>\n",
       "      <td>Investec: Financing transaction to enhance wat...</td>\n",
       "    </tr>\n",
       "    <tr>\n",
       "      <th>provider_publication_source</th>\n",
       "      <td>Indian Banking News</td>\n",
       "    </tr>\n",
       "    <tr>\n",
       "      <th>provider_duplicate_group_id</th>\n",
       "      <td>45190011568</td>\n",
       "    </tr>\n",
       "    <tr>\n",
       "      <th>sentence_text</th>\n",
       "      <td>\"The Investec Group is committed to the United...</td>\n",
       "    </tr>\n",
       "    <tr>\n",
       "      <th>event_name</th>\n",
       "      <td>Environmental Commentary</td>\n",
       "    </tr>\n",
       "    <tr>\n",
       "      <th>event_id</th>\n",
       "      <td>6977225116734993100</td>\n",
       "    </tr>\n",
       "    <tr>\n",
       "      <th>event_text</th>\n",
       "      <td>The Investec Group is committed to the United ...</td>\n",
       "    </tr>\n",
       "    <tr>\n",
       "      <th>polarity</th>\n",
       "      <td>1</td>\n",
       "    </tr>\n",
       "    <tr>\n",
       "      <th>property_key</th>\n",
       "      <td>SDG</td>\n",
       "    </tr>\n",
       "    <tr>\n",
       "      <th>property_value</th>\n",
       "      <td>true</td>\n",
       "    </tr>\n",
       "    <tr>\n",
       "      <th>provider_editorial_topics</th>\n",
       "      <td>[]</td>\n",
       "    </tr>\n",
       "    <tr>\n",
       "      <th>key_drivers</th>\n",
       "      <td>['Environmental', ' General SDG']</td>\n",
       "    </tr>\n",
       "    <tr>\n",
       "      <th>flow_id</th>\n",
       "      <td>966</td>\n",
       "    </tr>\n",
       "    <tr>\n",
       "      <th>source_file</th>\n",
       "      <td>flow_966_date_2021-06-17.json</td>\n",
       "    </tr>\n",
       "    <tr>\n",
       "      <th>date</th>\n",
       "      <td>2021-06-17</td>\n",
       "    </tr>\n",
       "  </tbody>\n",
       "</table>\n",
       "</div>"
      ],
      "text/plain": [
       "                                                                             14409\n",
       "model_id                                                                      2776\n",
       "symbology_id                                                              05JLQY-E\n",
       "creation_time_utc                                          2021-06-18 18:31:41 UTC\n",
       "event_time_utc                                             2021-06-17 11:30:00 UTC\n",
       "provider_document_id                                                   45193105023\n",
       "provider_source_link             https://ct.moreover.com/?a=45193105023&p=4y7&v...\n",
       "provider_license                                           ['LexisNexis Licensed']\n",
       "author_name                                                                    NaN\n",
       "provider_display_document_title  Investec: Financing transaction to enhance wat...\n",
       "provider_publication_source                                    Indian Banking News\n",
       "provider_duplicate_group_id                                            45190011568\n",
       "sentence_text                    \"The Investec Group is committed to the United...\n",
       "event_name                                                Environmental Commentary\n",
       "event_id                                                       6977225116734993100\n",
       "event_text                       The Investec Group is committed to the United ...\n",
       "polarity                                                                         1\n",
       "property_key                                                                   SDG\n",
       "property_value                                                                true\n",
       "provider_editorial_topics                                                       []\n",
       "key_drivers                                      ['Environmental', ' General SDG']\n",
       "flow_id                                                                        966\n",
       "source_file                                          flow_966_date_2021-06-17.json\n",
       "date                                                                    2021-06-17"
      ]
     },
     "execution_count": 9,
     "metadata": {},
     "output_type": "execute_result"
    }
   ],
   "source": [
    "df_events.sample().T"
   ]
  },
  {
   "cell_type": "code",
   "execution_count": 10,
   "metadata": {},
   "outputs": [],
   "source": [
    "df_events[COL_LABEL] = df_events[COL_EVENT_NAME].apply(ESG_Labels_ALL.index)"
   ]
  },
  {
   "cell_type": "code",
   "execution_count": 11,
   "metadata": {},
   "outputs": [
    {
     "data": {
      "text/plain": [
       "(23000, 24)"
      ]
     },
     "execution_count": 11,
     "metadata": {},
     "output_type": "execute_result"
    }
   ],
   "source": [
    "df_events.shape"
   ]
  },
  {
   "cell_type": "code",
   "execution_count": 12,
   "metadata": {},
   "outputs": [
    {
     "data": {
      "text/plain": [
       "(1039, 24)"
      ]
     },
     "execution_count": 12,
     "metadata": {},
     "output_type": "execute_result"
    }
   ],
   "source": [
    "df_labeled_sentences = df_events.drop_duplicates(subset=[COL_SENTENCE, COL_LABEL])\n",
    "df_labeled_sentences.shape"
   ]
  },
  {
   "cell_type": "code",
   "execution_count": 13,
   "metadata": {},
   "outputs": [],
   "source": [
    "df_labeled_sentences.to_csv('/home/administrator/Topics/BigQuery/DataFrames/df_labeled_sentences.csv')"
   ]
  },
  {
   "cell_type": "code",
   "execution_count": 14,
   "metadata": {},
   "outputs": [
    {
     "name": "stderr",
     "output_type": "stream",
     "text": [
      "/home/administrator/.local/share/virtualenvs/few-shot-text-classification-TZAlgmbz/lib/python3.7/site-packages/seaborn/_decorators.py:43: FutureWarning: Pass the following variable as a keyword arg: x. From version 0.12, the only valid positional argument will be `data`, and passing other arguments without an explicit keyword will result in an error or misinterpretation.\n",
      "  FutureWarning\n"
     ]
    },
    {
     "data": {
      "image/png": "[encoded data removed]",
      "text/plain": [
       "<Figure size 432x288 with 1 Axes>"
      ]
     },
     "metadata": {
      "needs_background": "light"
     },
     "output_type": "display_data"
    }
   ],
   "source": [
    "sns.countplot(df_events[COL_EVENT_NAME])\n",
    "plt.xticks(rotation=90);"
   ]
  },
  {
   "cell_type": "code",
   "execution_count": 15,
   "metadata": {},
   "outputs": [
    {
     "name": "stderr",
     "output_type": "stream",
     "text": [
      "/home/administrator/.local/share/virtualenvs/few-shot-text-classification-TZAlgmbz/lib/python3.7/site-packages/seaborn/_decorators.py:43: FutureWarning: Pass the following variable as a keyword arg: x. From version 0.12, the only valid positional argument will be `data`, and passing other arguments without an explicit keyword will result in an error or misinterpretation.\n",
      "  FutureWarning\n"
     ]
    },
    {
     "data": {
      "image/png": "[encoded data removed]",
      "text/plain": [
       "<Figure size 432x288 with 1 Axes>"
      ]
     },
     "metadata": {
      "needs_background": "light"
     },
     "output_type": "display_data"
    }
   ],
   "source": [
    "sns.countplot(df_events[COL_LABEL]);"
   ]
  },
  {
   "cell_type": "code",
   "execution_count": 18,
   "metadata": {},
   "outputs": [],
   "source": [
    "dataset = Dataset(\n",
    "    examples=df_labeled_sentences[COL_SENTENCE].tolist(),\n",
    "    labels=df_labeled_sentences[COL_LABEL].tolist(),\n",
    "    categories=ESG_Labels_ALL,\n",
    ")"
   ]
  },
  {
   "cell_type": "code",
   "execution_count": 19,
   "metadata": {},
   "outputs": [
    {
     "data": {
      "text/plain": [
       "'Volkswagen and Audi have been hit by a data breach that exposed the contact information and personal details of customers in the U.S. and Canada.'"
      ]
     },
     "execution_count": 19,
     "metadata": {},
     "output_type": "execute_result"
    }
   ],
   "source": [
    "dataset.examples[0]"
   ]
  },
  {
   "cell_type": "code",
   "execution_count": 20,
   "metadata": {},
   "outputs": [
    {
     "data": {
      "text/plain": [
       "\"GM recalls vehicles for issue with air bag light WASHINGTON - The U.S. government's highway safety agency approved a request by General Motors to recall four 2021 vehicle makes because of a malfunctioning air bag warning light.\""
      ]
     },
     "execution_count": 20,
     "metadata": {},
     "output_type": "execute_result"
    }
   ],
   "source": [
    "dataset.examples[1]"
   ]
  },
  {
   "cell_type": "code",
   "execution_count": 21,
   "metadata": {},
   "outputs": [
    {
     "data": {
      "text/plain": [
       "'Polaris accelerates sustainability efforts'"
      ]
     },
     "execution_count": 21,
     "metadata": {},
     "output_type": "execute_result"
    }
   ],
   "source": [
    "secrets.choice(dataset.examples)"
   ]
  },
  {
   "cell_type": "code",
   "execution_count": 22,
   "metadata": {},
   "outputs": [
    {
     "data": {
      "text/plain": [
       "\"While they were successful in creating a temporary halt to construction, they were brutally arrested by the local sheriff's department (paid for by Enbridge) sending some to the hospital.\""
      ]
     },
     "execution_count": 22,
     "metadata": {},
     "output_type": "execute_result"
    }
   ],
   "source": [
    "secrets.choice(dataset.examples)"
   ]
  },
  {
   "cell_type": "code",
   "execution_count": 23,
   "metadata": {},
   "outputs": [
    {
     "data": {
      "text/plain": [
       "('\"On a corporate level, Sime Darby Plantations and IOI Corporation both have a No Deforestation, No Peat, No Exploitation (NDPE) policy,\" it noted.',\n",
       " 'Resource and Biodiversity Conservation')"
      ]
     },
     "execution_count": 23,
     "metadata": {},
     "output_type": "execute_result"
    }
   ],
   "source": [
    "secrets.choice(list(zip(dataset.examples, df_labeled_sentences[COL_EVENT_NAME])))"
   ]
  },
  {
   "cell_type": "code",
   "execution_count": 24,
   "metadata": {},
   "outputs": [
    {
     "name": "stderr",
     "output_type": "stream",
     "text": [
      "/home/administrator/repos/few-shot-text-classification/fewshot/data/utils.py:81: UserWarning: Should run dataset.calc_sbert_embeddings() first.  In the future this will fail.\n",
      "  \"Should run dataset.calc_sbert_embeddings() first.  In the future this will fail.\"\n",
      "Computing sentence representations: 100%|██████████| 67/67 [00:12<00:00,  5.29it/s]\n"
     ]
    }
   ],
   "source": [
    "score = predict_and_score(dataset)"
   ]
  },
  {
   "cell_type": "code",
   "execution_count": 25,
   "metadata": {},
   "outputs": [
    {
     "data": {
      "text/plain": [
       "22.617901828681426"
      ]
     },
     "execution_count": 25,
     "metadata": {},
     "output_type": "execute_result"
    }
   ],
   "source": [
    "score"
   ]
  },
  {
   "cell_type": "markdown",
   "metadata": {},
   "source": [
    "# ZMap"
   ]
  },
  {
   "cell_type": "markdown",
   "metadata": {},
   "source": [
    "## W2V"
   ]
  },
  {
   "cell_type": "code",
   "execution_count": 26,
   "metadata": {},
   "outputs": [],
   "source": [
    "w2v_model = load_word_vector_model(small=True)"
   ]
  },
  {
   "cell_type": "code",
   "execution_count": 27,
   "metadata": {},
   "outputs": [
    {
     "data": {
      "text/plain": [
       "<gensim.models.keyedvectors.Word2VecKeyedVectors at 0x7fad9d1ff610>"
      ]
     },
     "execution_count": 27,
     "metadata": {},
     "output_type": "execute_result"
    }
   ],
   "source": [
    "w2v_model"
   ]
  },
  {
   "cell_type": "code",
   "execution_count": 28,
   "metadata": {},
   "outputs": [
    {
     "data": {
      "text/plain": [
       "['</s>',\n",
       " 'in',\n",
       " 'for',\n",
       " 'that',\n",
       " 'is',\n",
       " 'on',\n",
       " '##',\n",
       " 'The',\n",
       " 'with',\n",
       " 'said',\n",
       " 'was',\n",
       " 'the',\n",
       " 'at',\n",
       " 'not',\n",
       " 'as',\n",
       " 'it',\n",
       " 'be',\n",
       " 'from',\n",
       " 'by',\n",
       " 'are']"
      ]
     },
     "execution_count": 28,
     "metadata": {},
     "output_type": "execute_result"
    }
   ],
   "source": [
    "w2v_model.index2entity[:20]"
   ]
  },
  {
   "cell_type": "code",
   "execution_count": 29,
   "metadata": {},
   "outputs": [],
   "source": [
    "k = 100000 # most frequent words\n",
    "w2v_vectors, vocabulary = get_topk_w2v_vectors(w2v_model, k=k, return_word_list=True)\n",
    "vocabulary_filename = fewshot_filename(\"my_data/w2v\", \"w2v_vocab_sbert_embeddings.pt\")"
   ]
  },
  {
   "cell_type": "code",
   "execution_count": 30,
   "metadata": {},
   "outputs": [
    {
     "data": {
      "text/plain": [
       "100000"
      ]
     },
     "execution_count": 30,
     "metadata": {},
     "output_type": "execute_result"
    }
   ],
   "source": [
    "len(w2v_vectors)"
   ]
  },
  {
   "cell_type": "markdown",
   "metadata": {},
   "source": [
    "## S-BERT"
   ]
  },
  {
   "cell_type": "code",
   "execution_count": 31,
   "metadata": {},
   "outputs": [],
   "source": [
    "model, tokenizer = load_transformer_model_and_tokenizer(\"deepset/sentence_bert\")"
   ]
  },
  {
   "cell_type": "code",
   "execution_count": 32,
   "metadata": {},
   "outputs": [],
   "source": [
    "sbert_vectors = torch_load(vocabulary_filename)['embeddings']"
   ]
  },
  {
   "cell_type": "markdown",
   "metadata": {},
   "source": [
    "## Score"
   ]
  },
  {
   "cell_type": "code",
   "execution_count": 33,
   "metadata": {},
   "outputs": [],
   "source": [
    "Zmap_20000 = OLS_with_l2_regularization(sbert_vectors[:20000], to_tensor(w2v_vectors[:20000]))\n",
    "Zmap_50000 = OLS_with_l2_regularization(sbert_vectors[:50000], to_tensor(w2v_vectors[:50000]))"
   ]
  },
  {
   "cell_type": "code",
   "execution_count": 35,
   "metadata": {},
   "outputs": [
    {
     "data": {
      "text/plain": [
       "(torch.Size([768, 300]), torch.Size([768, 300]))"
      ]
     },
     "execution_count": 35,
     "metadata": {},
     "output_type": "execute_result"
    }
   ],
   "source": [
    "Zmap_20000.shape, Zmap_50000.shape"
   ]
  },
  {
   "cell_type": "code",
   "execution_count": null,
   "metadata": {},
   "outputs": [],
   "source": [
    "[\n",
    "    predict_and_score(dataset),\n",
    "    predict_and_score(dataset, [Zmap_20000]),\n",
    "    predict_and_score(dataset, [Zmap_50000]),\n",
    "    predict_and_score(dataset, [torch.rand_like(Zmap)]),\n",
    "    predict_and_score(dataset, [torch.empty_like(Zmap)]),\n",
    "    predict_and_score(dataset, [torch.zeros_like(Zmap)]),\n",
    "    predict_and_score(dataset, [torch.ones_like(Zmap)]),\n",
    "]"
   ]
  },
  {
   "cell_type": "code",
   "execution_count": null,
   "metadata": {},
   "outputs": [],
   "source": []
  }
 ],
 "metadata": {
  "kernelspec": {
   "display_name": "fsl",
   "language": "python",
   "name": "fsl"
  },
  "language_info": {
   "codemirror_mode": {
    "name": "ipython",
    "version": 3
   },
   "file_extension": ".py",
   "mimetype": "text/x-python",
   "name": "python",
   "nbconvert_exporter": "python",
   "pygments_lexer": "ipython3",
   "version": "3.7.5"
  }
 },
 "nbformat": 4,
 "nbformat_minor": 2
}
