{
 "cells": [
  {
   "cell_type": "code",
   "execution_count": 1,
   "metadata": {},
   "outputs": [],
   "source": [
    "import pandas as pd"
   ]
  },
  {
   "cell_type": "code",
   "execution_count": 2,
   "metadata": {},
   "outputs": [],
   "source": [
    "import sys\n",
    "sys.path.append('/home/administrator/repos/few-shot-text-classification')\n",
    "sys.path.append('/home/administrator/repos/few-shot-text-classification')"
   ]
  },
  {
   "cell_type": "code",
   "execution_count": 3,
   "metadata": {},
   "outputs": [],
   "source": [
    "from fewshot.data.loaders import _create_dataset_from_df"
   ]
  },
  {
   "cell_type": "code",
   "execution_count": 4,
   "metadata": {},
   "outputs": [
    {
     "name": "stdout",
     "output_type": "stream",
     "text": [
      "ls: cannot access '/Users/staveshemesh/Projects/Topics/BigQuery/DataFrames': No such file or directory\r\n"
     ]
    }
   ],
   "source": [
    "!ls /Users/staveshemesh/Projects/Topics/BigQuery/DataFrames"
   ]
  },
  {
   "cell_type": "code",
   "execution_count": 14,
   "metadata": {},
   "outputs": [],
   "source": [
    "COL_SENTENCE   = 'sentence_text'\n",
    "COL_EVENT_NAME = 'event_name'\n",
    "COL_LABEL      = 'label'"
   ]
  },
  {
   "cell_type": "code",
   "execution_count": 10,
   "metadata": {},
   "outputs": [],
   "source": [
    "df_events = pd.read_csv('/home/administrator/Topics/BigQuery/DataFrames/df_events.csv')"
   ]
  },
  {
   "cell_type": "code",
   "execution_count": 18,
   "metadata": {},
   "outputs": [
    {
     "data": {
      "text/html": [
       "<div>\n",
       "<style scoped>\n",
       "    .dataframe tbody tr th:only-of-type {\n",
       "        vertical-align: middle;\n",
       "    }\n",
       "\n",
       "    .dataframe tbody tr th {\n",
       "        vertical-align: top;\n",
       "    }\n",
       "\n",
       "    .dataframe thead th {\n",
       "        text-align: right;\n",
       "    }\n",
       "</style>\n",
       "<table border=\"1\" class=\"dataframe\">\n",
       "  <thead>\n",
       "    <tr style=\"text-align: right;\">\n",
       "      <th></th>\n",
       "      <th>20320</th>\n",
       "    </tr>\n",
       "  </thead>\n",
       "  <tbody>\n",
       "    <tr>\n",
       "      <th>model_id</th>\n",
       "      <td>2776</td>\n",
       "    </tr>\n",
       "    <tr>\n",
       "      <th>symbology_id</th>\n",
       "      <td>05HF3F-E</td>\n",
       "    </tr>\n",
       "    <tr>\n",
       "      <th>creation_time_utc</th>\n",
       "      <td>2021-06-19 01:48:34 UTC</td>\n",
       "    </tr>\n",
       "    <tr>\n",
       "      <th>event_time_utc</th>\n",
       "      <td>2021-06-18 12:00:00 UTC</td>\n",
       "    </tr>\n",
       "    <tr>\n",
       "      <th>provider_document_id</th>\n",
       "      <td>45195012060</td>\n",
       "    </tr>\n",
       "    <tr>\n",
       "      <th>provider_source_link</th>\n",
       "      <td>https://ct.moreover.com/?a=45195012060&amp;p=4y7&amp;v...</td>\n",
       "    </tr>\n",
       "    <tr>\n",
       "      <th>provider_license</th>\n",
       "      <td>['LexisNexis Licensed']</td>\n",
       "    </tr>\n",
       "    <tr>\n",
       "      <th>author_name</th>\n",
       "      <td>By, Suzanne Russell, MyCentralJersey.com</td>\n",
       "    </tr>\n",
       "    <tr>\n",
       "      <th>provider_display_document_title</th>\n",
       "      <td>2 brothers killed in Linden Route 1 crash</td>\n",
       "    </tr>\n",
       "    <tr>\n",
       "      <th>provider_publication_source</th>\n",
       "      <td>Home News Tribune (East Brunswick, New Jersey)</td>\n",
       "    </tr>\n",
       "    <tr>\n",
       "      <th>provider_duplicate_group_id</th>\n",
       "      <td>45184102302</td>\n",
       "    </tr>\n",
       "    <tr>\n",
       "      <th>sentence_text</th>\n",
       "      <td>A preliminary investigation indicates a 2017 B...</td>\n",
       "    </tr>\n",
       "    <tr>\n",
       "      <th>label</th>\n",
       "      <td>Legal Regulatory</td>\n",
       "    </tr>\n",
       "    <tr>\n",
       "      <th>event_id</th>\n",
       "      <td>3508275874484073107</td>\n",
       "    </tr>\n",
       "    <tr>\n",
       "      <th>event_text</th>\n",
       "      <td>preliminary investigation indicates</td>\n",
       "    </tr>\n",
       "    <tr>\n",
       "      <th>polarity</th>\n",
       "      <td>-1</td>\n",
       "    </tr>\n",
       "    <tr>\n",
       "      <th>property_key</th>\n",
       "      <td>keyDriver</td>\n",
       "    </tr>\n",
       "    <tr>\n",
       "      <th>property_value</th>\n",
       "      <td>Governance</td>\n",
       "    </tr>\n",
       "    <tr>\n",
       "      <th>provider_editorial_topics</th>\n",
       "      <td>['News', 'Standard']</td>\n",
       "    </tr>\n",
       "    <tr>\n",
       "      <th>key_drivers</th>\n",
       "      <td>['Governance']</td>\n",
       "    </tr>\n",
       "    <tr>\n",
       "      <th>flow_id</th>\n",
       "      <td>966</td>\n",
       "    </tr>\n",
       "    <tr>\n",
       "      <th>source_file</th>\n",
       "      <td>flow_966_date_2021-06-18.json</td>\n",
       "    </tr>\n",
       "    <tr>\n",
       "      <th>date</th>\n",
       "      <td>2021-06-18</td>\n",
       "    </tr>\n",
       "  </tbody>\n",
       "</table>\n",
       "</div>"
      ],
      "text/plain": [
       "                                                                             20320\n",
       "model_id                                                                      2776\n",
       "symbology_id                                                              05HF3F-E\n",
       "creation_time_utc                                          2021-06-19 01:48:34 UTC\n",
       "event_time_utc                                             2021-06-18 12:00:00 UTC\n",
       "provider_document_id                                                   45195012060\n",
       "provider_source_link             https://ct.moreover.com/?a=45195012060&p=4y7&v...\n",
       "provider_license                                           ['LexisNexis Licensed']\n",
       "author_name                               By, Suzanne Russell, MyCentralJersey.com\n",
       "provider_display_document_title          2 brothers killed in Linden Route 1 crash\n",
       "provider_publication_source         Home News Tribune (East Brunswick, New Jersey)\n",
       "provider_duplicate_group_id                                            45184102302\n",
       "sentence_text                    A preliminary investigation indicates a 2017 B...\n",
       "label                                                             Legal Regulatory\n",
       "event_id                                                       3508275874484073107\n",
       "event_text                                     preliminary investigation indicates\n",
       "polarity                                                                        -1\n",
       "property_key                                                             keyDriver\n",
       "property_value                                                          Governance\n",
       "provider_editorial_topics                                     ['News', 'Standard']\n",
       "key_drivers                                                         ['Governance']\n",
       "flow_id                                                                        966\n",
       "source_file                                          flow_966_date_2021-06-18.json\n",
       "date                                                                    2021-06-18"
      ]
     },
     "execution_count": 18,
     "metadata": {},
     "output_type": "execute_result"
    }
   ],
   "source": [
    "df_events.sample().T"
   ]
  },
  {
   "cell_type": "code",
   "execution_count": 15,
   "metadata": {},
   "outputs": [],
   "source": [
    "df_events.rename(columns={COL_EVENT_NAME: COL_LABEL}, inplace=True)"
   ]
  },
  {
   "cell_type": "code",
   "execution_count": 16,
   "metadata": {},
   "outputs": [
    {
     "ename": "AttributeError",
     "evalue": "'DataFrame' object has no attribute 'category'",
     "output_type": "error",
     "traceback": [
      "\u001b[0;31m---------------------------------------------------------------------------\u001b[0m",
      "\u001b[0;31mAttributeError\u001b[0m                            Traceback (most recent call last)",
      "\u001b[0;32m/tmp/ipykernel_15878/4145648204.py\u001b[0m in \u001b[0;36m<module>\u001b[0;34m\u001b[0m\n\u001b[0;32m----> 1\u001b[0;31m \u001b[0m_create_dataset_from_df\u001b[0m\u001b[0;34m(\u001b[0m\u001b[0mdf_events\u001b[0m\u001b[0;34m,\u001b[0m \u001b[0mCOL_SENTENCE\u001b[0m\u001b[0;34m)\u001b[0m\u001b[0;34m\u001b[0m\u001b[0;34m\u001b[0m\u001b[0m\n\u001b[0m",
      "\u001b[0;32m~/repos/few-shot-text-classification/fewshot/data/loaders.py\u001b[0m in \u001b[0;36m_create_dataset_from_df\u001b[0;34m(df, text_column, filename)\u001b[0m\n\u001b[1;32m    145\u001b[0m         \u001b[0mexamples\u001b[0m\u001b[0;34m=\u001b[0m\u001b[0mdf\u001b[0m\u001b[0;34m[\u001b[0m\u001b[0mtext_column\u001b[0m\u001b[0;34m]\u001b[0m\u001b[0;34m.\u001b[0m\u001b[0mtolist\u001b[0m\u001b[0;34m(\u001b[0m\u001b[0;34m)\u001b[0m\u001b[0;34m,\u001b[0m\u001b[0;34m\u001b[0m\u001b[0;34m\u001b[0m\u001b[0m\n\u001b[1;32m    146\u001b[0m         \u001b[0mlabels\u001b[0m\u001b[0;34m=\u001b[0m\u001b[0mdf\u001b[0m\u001b[0;34m.\u001b[0m\u001b[0mlabel\u001b[0m\u001b[0;34m.\u001b[0m\u001b[0mtolist\u001b[0m\u001b[0;34m(\u001b[0m\u001b[0;34m)\u001b[0m\u001b[0;34m,\u001b[0m\u001b[0;34m\u001b[0m\u001b[0;34m\u001b[0m\u001b[0m\n\u001b[0;32m--> 147\u001b[0;31m         \u001b[0mcategories\u001b[0m\u001b[0;34m=\u001b[0m\u001b[0m_prepare_category_names\u001b[0m\u001b[0;34m(\u001b[0m\u001b[0mdf\u001b[0m\u001b[0;34m)\u001b[0m\u001b[0;34m,\u001b[0m\u001b[0;34m\u001b[0m\u001b[0;34m\u001b[0m\u001b[0m\n\u001b[0m\u001b[1;32m    148\u001b[0m     )\n\u001b[1;32m    149\u001b[0m \u001b[0;34m\u001b[0m\u001b[0m\n",
      "\u001b[0;32m~/repos/few-shot-text-classification/fewshot/data/loaders.py\u001b[0m in \u001b[0;36m_prepare_category_names\u001b[0;34m(df)\u001b[0m\n\u001b[1;32m     75\u001b[0m     \u001b[0;34m>\u001b[0m \u001b[0mcategories\u001b[0m \u001b[0;34m=\u001b[0m \u001b[0mdf\u001b[0m\u001b[0;34m.\u001b[0m\u001b[0mcategory\u001b[0m\u001b[0;34m.\u001b[0m\u001b[0munique\u001b[0m\u001b[0;34m(\u001b[0m\u001b[0;34m)\u001b[0m\u001b[0;34m\u001b[0m\u001b[0;34m\u001b[0m\u001b[0m\n\u001b[1;32m     76\u001b[0m     \"\"\"\n\u001b[0;32m---> 77\u001b[0;31m     \u001b[0mmapping\u001b[0m \u001b[0;34m=\u001b[0m \u001b[0mset\u001b[0m\u001b[0;34m(\u001b[0m\u001b[0mzip\u001b[0m\u001b[0;34m(\u001b[0m\u001b[0mdf\u001b[0m\u001b[0;34m.\u001b[0m\u001b[0mlabel\u001b[0m\u001b[0;34m,\u001b[0m \u001b[0mdf\u001b[0m\u001b[0;34m.\u001b[0m\u001b[0mcategory\u001b[0m\u001b[0;34m)\u001b[0m\u001b[0;34m)\u001b[0m\u001b[0;34m\u001b[0m\u001b[0;34m\u001b[0m\u001b[0m\n\u001b[0m\u001b[1;32m     78\u001b[0m     \u001b[0;32mreturn\u001b[0m \u001b[0;34m[\u001b[0m\u001b[0mc\u001b[0m \u001b[0;32mfor\u001b[0m \u001b[0ml\u001b[0m\u001b[0;34m,\u001b[0m \u001b[0mc\u001b[0m \u001b[0;32min\u001b[0m \u001b[0msorted\u001b[0m\u001b[0;34m(\u001b[0m\u001b[0mmapping\u001b[0m\u001b[0;34m)\u001b[0m\u001b[0;34m]\u001b[0m\u001b[0;34m\u001b[0m\u001b[0;34m\u001b[0m\u001b[0m\n\u001b[1;32m     79\u001b[0m \u001b[0;34m\u001b[0m\u001b[0m\n",
      "\u001b[0;32m~/.local/share/virtualenvs/few-shot-text-classification-TZAlgmbz/lib/python3.7/site-packages/pandas/core/generic.py\u001b[0m in \u001b[0;36m__getattr__\u001b[0;34m(self, name)\u001b[0m\n\u001b[1;32m   5134\u001b[0m             \u001b[0;32mif\u001b[0m \u001b[0mself\u001b[0m\u001b[0;34m.\u001b[0m\u001b[0m_info_axis\u001b[0m\u001b[0;34m.\u001b[0m\u001b[0m_can_hold_identifiers_and_holds_name\u001b[0m\u001b[0;34m(\u001b[0m\u001b[0mname\u001b[0m\u001b[0;34m)\u001b[0m\u001b[0;34m:\u001b[0m\u001b[0;34m\u001b[0m\u001b[0;34m\u001b[0m\u001b[0m\n\u001b[1;32m   5135\u001b[0m                 \u001b[0;32mreturn\u001b[0m \u001b[0mself\u001b[0m\u001b[0;34m[\u001b[0m\u001b[0mname\u001b[0m\u001b[0;34m]\u001b[0m\u001b[0;34m\u001b[0m\u001b[0;34m\u001b[0m\u001b[0m\n\u001b[0;32m-> 5136\u001b[0;31m             \u001b[0;32mreturn\u001b[0m \u001b[0mobject\u001b[0m\u001b[0;34m.\u001b[0m\u001b[0m__getattribute__\u001b[0m\u001b[0;34m(\u001b[0m\u001b[0mself\u001b[0m\u001b[0;34m,\u001b[0m \u001b[0mname\u001b[0m\u001b[0;34m)\u001b[0m\u001b[0;34m\u001b[0m\u001b[0;34m\u001b[0m\u001b[0m\n\u001b[0m\u001b[1;32m   5137\u001b[0m \u001b[0;34m\u001b[0m\u001b[0m\n\u001b[1;32m   5138\u001b[0m     \u001b[0;32mdef\u001b[0m \u001b[0m__setattr__\u001b[0m\u001b[0;34m(\u001b[0m\u001b[0mself\u001b[0m\u001b[0;34m,\u001b[0m \u001b[0mname\u001b[0m\u001b[0;34m:\u001b[0m \u001b[0mstr\u001b[0m\u001b[0;34m,\u001b[0m \u001b[0mvalue\u001b[0m\u001b[0;34m)\u001b[0m \u001b[0;34m->\u001b[0m \u001b[0;32mNone\u001b[0m\u001b[0;34m:\u001b[0m\u001b[0;34m\u001b[0m\u001b[0;34m\u001b[0m\u001b[0m\n",
      "\u001b[0;31mAttributeError\u001b[0m: 'DataFrame' object has no attribute 'category'"
     ]
    }
   ],
   "source": [
    "dataset = Dataset(\n",
    "    examples=df_events[COL_SENTENCE].tolist(),\n",
    "    labels=df_events[COL_LABEL].tolist(),\n",
    "    categories=_prepare_category_names(df),\n",
    ")"
   ]
  },
  {
   "cell_type": "code",
   "execution_count": null,
   "metadata": {},
   "outputs": [],
   "source": []
  }
 ],
 "metadata": {
  "kernelspec": {
   "display_name": "fsl",
   "language": "python",
   "name": "fsl"
  },
  "language_info": {
   "codemirror_mode": {
    "name": "ipython",
    "version": 3
   },
   "file_extension": ".py",
   "mimetype": "text/x-python",
   "name": "python",
   "nbconvert_exporter": "python",
   "pygments_lexer": "ipython3",
   "version": "3.7.5"
  }
 },
 "nbformat": 4,
 "nbformat_minor": 2
}
